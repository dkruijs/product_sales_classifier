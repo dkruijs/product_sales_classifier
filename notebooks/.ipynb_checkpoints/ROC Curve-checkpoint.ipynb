{
 "cells": [
  {
   "cell_type": "markdown",
   "metadata": {},
   "source": [
    "## RF Model Collexys"
   ]
  },
  {
   "cell_type": "code",
   "execution_count": 38,
   "metadata": {},
   "outputs": [],
   "source": [
    "import numpy as np\n",
    "import pandas as pd\n",
    "import pickle\n",
    "import sys\n",
    "import time\n",
    "from sklearn import metrics\n",
    "from sklearn.ensemble import RandomForestClassifier\n",
    "from sklearn.externals import joblib\n",
    "from sklearn.model_selection import train_test_split\n",
    "\n",
    "from sklearn.metrics import roc_curve, auc, precision_recall_curve\n",
    "import matplotlib.pyplot as plt\n",
    "\n",
    "from sklearn.metrics import confusion_matrix, accuracy_score, precision_score, recall_score\n",
    "\n",
    "from sklearn.metrics import plot_confusion_matrix"
   ]
  },
  {
   "cell_type": "code",
   "execution_count": 9,
   "metadata": {},
   "outputs": [],
   "source": [
    "data = pd.read_csv('master_enriched.csv', sep = \";\", encoding = \"ISO-8859-1\")"
   ]
  },
  {
   "cell_type": "markdown",
   "metadata": {},
   "source": [
    "Split columns into x/y"
   ]
  },
  {
   "cell_type": "code",
   "execution_count": 27,
   "metadata": {},
   "outputs": [
    {
     "data": {
      "text/html": [
       "<div>\n",
       "<style scoped>\n",
       "    .dataframe tbody tr th:only-of-type {\n",
       "        vertical-align: middle;\n",
       "    }\n",
       "\n",
       "    .dataframe tbody tr th {\n",
       "        vertical-align: top;\n",
       "    }\n",
       "\n",
       "    .dataframe thead th {\n",
       "        text-align: right;\n",
       "    }\n",
       "</style>\n",
       "<table border=\"1\" class=\"dataframe\">\n",
       "  <thead>\n",
       "    <tr style=\"text-align: right;\">\n",
       "      <th></th>\n",
       "      <th>DOCUMENTNUMMER</th>\n",
       "      <th>CONTRACTREKENING</th>\n",
       "      <th>VERVALDATUM</th>\n",
       "      <th>VR_DATUM</th>\n",
       "      <th>rel_verdachtenvaneenmisdrijf</th>\n",
       "      <th>laag</th>\n",
       "      <th>middelbaar</th>\n",
       "      <th>hoog</th>\n",
       "      <th>gemiddeld persoonlijk inkomen</th>\n",
       "      <th>rel_WWuitkering</th>\n",
       "      <th>...</th>\n",
       "      <th>previous_2</th>\n",
       "      <th>previous_3</th>\n",
       "      <th>previous_4</th>\n",
       "      <th>previous_5</th>\n",
       "      <th>previous_6</th>\n",
       "      <th>recency</th>\n",
       "      <th>severity2</th>\n",
       "      <th>AANGEMAAND_SALDO</th>\n",
       "      <th>KLANTLABEL</th>\n",
       "      <th>validation_sample</th>\n",
       "    </tr>\n",
       "  </thead>\n",
       "  <tbody>\n",
       "    <tr>\n",
       "      <th>14</th>\n",
       "      <td>410616601330</td>\n",
       "      <td>3000046148</td>\n",
       "      <td>2016-12-30T00:00:00Z</td>\n",
       "      <td>2017-01-25T00:00:00Z</td>\n",
       "      <td>0.005749</td>\n",
       "      <td>44.0</td>\n",
       "      <td>39.0</td>\n",
       "      <td>17.0</td>\n",
       "      <td>23000.0</td>\n",
       "      <td>0.043532</td>\n",
       "      <td>...</td>\n",
       "      <td>0.0</td>\n",
       "      <td>0.0</td>\n",
       "      <td>0.0</td>\n",
       "      <td>0.0</td>\n",
       "      <td>0.0</td>\n",
       "      <td>30</td>\n",
       "      <td>28</td>\n",
       "      <td>1255.0</td>\n",
       "      <td>KZM</td>\n",
       "      <td>True</td>\n",
       "    </tr>\n",
       "    <tr>\n",
       "      <th>15</th>\n",
       "      <td>410816455303</td>\n",
       "      <td>3000046148</td>\n",
       "      <td>2017-01-30T00:00:00Z</td>\n",
       "      <td>2017-02-22T00:00:00Z</td>\n",
       "      <td>0.005749</td>\n",
       "      <td>44.0</td>\n",
       "      <td>39.0</td>\n",
       "      <td>17.0</td>\n",
       "      <td>23000.0</td>\n",
       "      <td>0.043532</td>\n",
       "      <td>...</td>\n",
       "      <td>0.0</td>\n",
       "      <td>0.0</td>\n",
       "      <td>0.0</td>\n",
       "      <td>0.0</td>\n",
       "      <td>0.0</td>\n",
       "      <td>31</td>\n",
       "      <td>28</td>\n",
       "      <td>1255.0</td>\n",
       "      <td>KZM</td>\n",
       "      <td>True</td>\n",
       "    </tr>\n",
       "    <tr>\n",
       "      <th>16</th>\n",
       "      <td>410817073632</td>\n",
       "      <td>3000046148</td>\n",
       "      <td>2018-10-31T00:00:00Z</td>\n",
       "      <td>2018-11-05T00:00:00Z</td>\n",
       "      <td>0.005749</td>\n",
       "      <td>44.0</td>\n",
       "      <td>39.0</td>\n",
       "      <td>17.0</td>\n",
       "      <td>23000.0</td>\n",
       "      <td>0.043532</td>\n",
       "      <td>...</td>\n",
       "      <td>0.0</td>\n",
       "      <td>0.0</td>\n",
       "      <td>0.0</td>\n",
       "      <td>0.0</td>\n",
       "      <td>0.0</td>\n",
       "      <td>30</td>\n",
       "      <td>29</td>\n",
       "      <td>949.0</td>\n",
       "      <td>KZM</td>\n",
       "      <td>True</td>\n",
       "    </tr>\n",
       "    <tr>\n",
       "      <th>17</th>\n",
       "      <td>411116644792</td>\n",
       "      <td>3000046148</td>\n",
       "      <td>2017-07-31T00:00:00Z</td>\n",
       "      <td>2017-08-11T00:00:00Z</td>\n",
       "      <td>0.005749</td>\n",
       "      <td>44.0</td>\n",
       "      <td>39.0</td>\n",
       "      <td>17.0</td>\n",
       "      <td>23000.0</td>\n",
       "      <td>0.043532</td>\n",
       "      <td>...</td>\n",
       "      <td>0.0</td>\n",
       "      <td>0.0</td>\n",
       "      <td>0.0</td>\n",
       "      <td>0.0</td>\n",
       "      <td>0.0</td>\n",
       "      <td>30</td>\n",
       "      <td>28</td>\n",
       "      <td>1255.0</td>\n",
       "      <td>KZM</td>\n",
       "      <td>True</td>\n",
       "    </tr>\n",
       "    <tr>\n",
       "      <th>18</th>\n",
       "      <td>411216232565</td>\n",
       "      <td>3000046148</td>\n",
       "      <td>2016-08-30T00:00:00Z</td>\n",
       "      <td>2016-09-22T00:00:00Z</td>\n",
       "      <td>0.005749</td>\n",
       "      <td>44.0</td>\n",
       "      <td>39.0</td>\n",
       "      <td>17.0</td>\n",
       "      <td>23000.0</td>\n",
       "      <td>0.043532</td>\n",
       "      <td>...</td>\n",
       "      <td>0.0</td>\n",
       "      <td>0.0</td>\n",
       "      <td>0.0</td>\n",
       "      <td>0.0</td>\n",
       "      <td>0.0</td>\n",
       "      <td>29</td>\n",
       "      <td>28</td>\n",
       "      <td>1298.0</td>\n",
       "      <td>KZM</td>\n",
       "      <td>True</td>\n",
       "    </tr>\n",
       "    <tr>\n",
       "      <th>...</th>\n",
       "      <td>...</td>\n",
       "      <td>...</td>\n",
       "      <td>...</td>\n",
       "      <td>...</td>\n",
       "      <td>...</td>\n",
       "      <td>...</td>\n",
       "      <td>...</td>\n",
       "      <td>...</td>\n",
       "      <td>...</td>\n",
       "      <td>...</td>\n",
       "      <td>...</td>\n",
       "      <td>...</td>\n",
       "      <td>...</td>\n",
       "      <td>...</td>\n",
       "      <td>...</td>\n",
       "      <td>...</td>\n",
       "      <td>...</td>\n",
       "      <td>...</td>\n",
       "      <td>...</td>\n",
       "      <td>...</td>\n",
       "      <td>...</td>\n",
       "    </tr>\n",
       "    <tr>\n",
       "      <th>2403425</th>\n",
       "      <td>415604838011</td>\n",
       "      <td>3014388038</td>\n",
       "      <td>2019-10-07T00:00:00Z</td>\n",
       "      <td>2019-10-22T00:00:00Z</td>\n",
       "      <td>0.004706</td>\n",
       "      <td>45.0</td>\n",
       "      <td>31.0</td>\n",
       "      <td>24.0</td>\n",
       "      <td>22100.0</td>\n",
       "      <td>0.056471</td>\n",
       "      <td>...</td>\n",
       "      <td>0.0</td>\n",
       "      <td>0.0</td>\n",
       "      <td>0.0</td>\n",
       "      <td>0.0</td>\n",
       "      <td>0.0</td>\n",
       "      <td>0</td>\n",
       "      <td>0</td>\n",
       "      <td>114.0</td>\n",
       "      <td>CM</td>\n",
       "      <td>True</td>\n",
       "    </tr>\n",
       "    <tr>\n",
       "      <th>2403427</th>\n",
       "      <td>412313321146</td>\n",
       "      <td>3014389222</td>\n",
       "      <td>2019-10-16T00:00:00Z</td>\n",
       "      <td>2019-10-30T00:00:00Z</td>\n",
       "      <td>0.012153</td>\n",
       "      <td>46.0</td>\n",
       "      <td>32.0</td>\n",
       "      <td>21.0</td>\n",
       "      <td>23000.0</td>\n",
       "      <td>0.046875</td>\n",
       "      <td>...</td>\n",
       "      <td>0.0</td>\n",
       "      <td>0.0</td>\n",
       "      <td>0.0</td>\n",
       "      <td>0.0</td>\n",
       "      <td>0.0</td>\n",
       "      <td>0</td>\n",
       "      <td>0</td>\n",
       "      <td>50.0</td>\n",
       "      <td>CM</td>\n",
       "      <td>True</td>\n",
       "    </tr>\n",
       "    <tr>\n",
       "      <th>2403437</th>\n",
       "      <td>411417678342</td>\n",
       "      <td>3014393710</td>\n",
       "      <td>2019-10-21T00:00:00Z</td>\n",
       "      <td>2019-10-31T00:00:00Z</td>\n",
       "      <td>0.015086</td>\n",
       "      <td>49.0</td>\n",
       "      <td>38.0</td>\n",
       "      <td>13.0</td>\n",
       "      <td>22700.0</td>\n",
       "      <td>0.058190</td>\n",
       "      <td>...</td>\n",
       "      <td>0.0</td>\n",
       "      <td>0.0</td>\n",
       "      <td>0.0</td>\n",
       "      <td>0.0</td>\n",
       "      <td>0.0</td>\n",
       "      <td>0</td>\n",
       "      <td>0</td>\n",
       "      <td>131.0</td>\n",
       "      <td>KZM</td>\n",
       "      <td>True</td>\n",
       "    </tr>\n",
       "    <tr>\n",
       "      <th>2403444</th>\n",
       "      <td>412115017811</td>\n",
       "      <td>3014397138</td>\n",
       "      <td>2019-10-09T00:00:00Z</td>\n",
       "      <td>2019-10-15T00:00:00Z</td>\n",
       "      <td>0.010372</td>\n",
       "      <td>44.0</td>\n",
       "      <td>32.0</td>\n",
       "      <td>24.0</td>\n",
       "      <td>28100.0</td>\n",
       "      <td>0.050130</td>\n",
       "      <td>...</td>\n",
       "      <td>0.0</td>\n",
       "      <td>0.0</td>\n",
       "      <td>0.0</td>\n",
       "      <td>0.0</td>\n",
       "      <td>0.0</td>\n",
       "      <td>0</td>\n",
       "      <td>0</td>\n",
       "      <td>99.0</td>\n",
       "      <td>CM</td>\n",
       "      <td>True</td>\n",
       "    </tr>\n",
       "    <tr>\n",
       "      <th>2403449</th>\n",
       "      <td>414705974204</td>\n",
       "      <td>3014402334</td>\n",
       "      <td>2019-10-23T00:00:00Z</td>\n",
       "      <td>2019-10-29T00:00:00Z</td>\n",
       "      <td>0.018757</td>\n",
       "      <td>60.0</td>\n",
       "      <td>31.0</td>\n",
       "      <td>9.0</td>\n",
       "      <td>17200.0</td>\n",
       "      <td>0.077110</td>\n",
       "      <td>...</td>\n",
       "      <td>0.0</td>\n",
       "      <td>0.0</td>\n",
       "      <td>0.0</td>\n",
       "      <td>0.0</td>\n",
       "      <td>0.0</td>\n",
       "      <td>0</td>\n",
       "      <td>0</td>\n",
       "      <td>50.0</td>\n",
       "      <td>KZM</td>\n",
       "      <td>True</td>\n",
       "    </tr>\n",
       "  </tbody>\n",
       "</table>\n",
       "<p>225208 rows × 30 columns</p>\n",
       "</div>"
      ],
      "text/plain": [
       "         DOCUMENTNUMMER  CONTRACTREKENING           VERVALDATUM  \\\n",
       "14         410616601330        3000046148  2016-12-30T00:00:00Z   \n",
       "15         410816455303        3000046148  2017-01-30T00:00:00Z   \n",
       "16         410817073632        3000046148  2018-10-31T00:00:00Z   \n",
       "17         411116644792        3000046148  2017-07-31T00:00:00Z   \n",
       "18         411216232565        3000046148  2016-08-30T00:00:00Z   \n",
       "...                 ...               ...                   ...   \n",
       "2403425    415604838011        3014388038  2019-10-07T00:00:00Z   \n",
       "2403427    412313321146        3014389222  2019-10-16T00:00:00Z   \n",
       "2403437    411417678342        3014393710  2019-10-21T00:00:00Z   \n",
       "2403444    412115017811        3014397138  2019-10-09T00:00:00Z   \n",
       "2403449    414705974204        3014402334  2019-10-23T00:00:00Z   \n",
       "\n",
       "                     VR_DATUM  rel_verdachtenvaneenmisdrijf  laag  middelbaar  \\\n",
       "14       2017-01-25T00:00:00Z                      0.005749  44.0        39.0   \n",
       "15       2017-02-22T00:00:00Z                      0.005749  44.0        39.0   \n",
       "16       2018-11-05T00:00:00Z                      0.005749  44.0        39.0   \n",
       "17       2017-08-11T00:00:00Z                      0.005749  44.0        39.0   \n",
       "18       2016-09-22T00:00:00Z                      0.005749  44.0        39.0   \n",
       "...                       ...                           ...   ...         ...   \n",
       "2403425  2019-10-22T00:00:00Z                      0.004706  45.0        31.0   \n",
       "2403427  2019-10-30T00:00:00Z                      0.012153  46.0        32.0   \n",
       "2403437  2019-10-31T00:00:00Z                      0.015086  49.0        38.0   \n",
       "2403444  2019-10-15T00:00:00Z                      0.010372  44.0        32.0   \n",
       "2403449  2019-10-29T00:00:00Z                      0.018757  60.0        31.0   \n",
       "\n",
       "         hoog  gemiddeld persoonlijk inkomen  rel_WWuitkering  ...  \\\n",
       "14       17.0                        23000.0         0.043532  ...   \n",
       "15       17.0                        23000.0         0.043532  ...   \n",
       "16       17.0                        23000.0         0.043532  ...   \n",
       "17       17.0                        23000.0         0.043532  ...   \n",
       "18       17.0                        23000.0         0.043532  ...   \n",
       "...       ...                            ...              ...  ...   \n",
       "2403425  24.0                        22100.0         0.056471  ...   \n",
       "2403427  21.0                        23000.0         0.046875  ...   \n",
       "2403437  13.0                        22700.0         0.058190  ...   \n",
       "2403444  24.0                        28100.0         0.050130  ...   \n",
       "2403449   9.0                        17200.0         0.077110  ...   \n",
       "\n",
       "         previous_2  previous_3  previous_4  previous_5  previous_6  recency  \\\n",
       "14              0.0         0.0         0.0         0.0         0.0       30   \n",
       "15              0.0         0.0         0.0         0.0         0.0       31   \n",
       "16              0.0         0.0         0.0         0.0         0.0       30   \n",
       "17              0.0         0.0         0.0         0.0         0.0       30   \n",
       "18              0.0         0.0         0.0         0.0         0.0       29   \n",
       "...             ...         ...         ...         ...         ...      ...   \n",
       "2403425         0.0         0.0         0.0         0.0         0.0        0   \n",
       "2403427         0.0         0.0         0.0         0.0         0.0        0   \n",
       "2403437         0.0         0.0         0.0         0.0         0.0        0   \n",
       "2403444         0.0         0.0         0.0         0.0         0.0        0   \n",
       "2403449         0.0         0.0         0.0         0.0         0.0        0   \n",
       "\n",
       "         severity2  AANGEMAAND_SALDO  KLANTLABEL  validation_sample  \n",
       "14              28            1255.0         KZM               True  \n",
       "15              28            1255.0         KZM               True  \n",
       "16              29             949.0         KZM               True  \n",
       "17              28            1255.0         KZM               True  \n",
       "18              28            1298.0         KZM               True  \n",
       "...            ...               ...         ...                ...  \n",
       "2403425          0             114.0          CM               True  \n",
       "2403427          0              50.0          CM               True  \n",
       "2403437          0             131.0         KZM               True  \n",
       "2403444          0              99.0          CM               True  \n",
       "2403449          0              50.0         KZM               True  \n",
       "\n",
       "[225208 rows x 30 columns]"
      ]
     },
     "execution_count": 27,
     "metadata": {},
     "output_type": "execute_result"
    }
   ],
   "source": [
    "data.loc[data.validation_sample]"
   ]
  },
  {
   "cell_type": "code",
   "execution_count": 10,
   "metadata": {},
   "outputs": [],
   "source": [
    "x_columns = [\"rel_verdachtenvaneenmisdrijf\", \"laag\", \"middelbaar\", \"hoog\", \"gemiddeld persoonlijk inkomen\",\n",
    "              \"rel_WWuitkering\", \"rel_AOuitkering\", \"rel_bijstandsuitkering\", \"rel_Ziektewet\", \"frequency_2\",\n",
    "              \"frequency_3\", \"frequency_4\", \"frequency_5\", \"frequency_6\", \"previous_max\",\n",
    "              \"previous_1\", \"previous_2\", \"previous_3\", \"previous_4\", \"previous_5\",\n",
    "              \"previous_6\", \"recency\", \"severity2\", \"AANGEMAAND_SALDO\", \"KLANTLABEL_CM\"]\n"
   ]
  },
  {
   "cell_type": "code",
   "execution_count": 14,
   "metadata": {},
   "outputs": [],
   "source": [
    "data = data.dropna(subset=x_columns)"
   ]
  },
  {
   "cell_type": "code",
   "execution_count": 24,
   "metadata": {},
   "outputs": [],
   "source": [
    "X = data.loc[~data.validation_sample][x_columns]\n",
    "\n",
    "y = data.loc[~data.validation_sample].maxmiddel"
   ]
  },
  {
   "cell_type": "markdown",
   "metadata": {},
   "source": [
    "Create test/train split"
   ]
  },
  {
   "cell_type": "code",
   "execution_count": 25,
   "metadata": {},
   "outputs": [],
   "source": [
    "X_train, X_test, y_train, y_test = train_test_split(X, y, test_size=0.3, random_state = 42) # 70% training and 30% test"
   ]
  },
  {
   "cell_type": "markdown",
   "metadata": {},
   "source": [
    "## Create RFM testmodel to export images"
   ]
  },
  {
   "cell_type": "markdown",
   "metadata": {},
   "source": [
    "Create RF Model with 100 trees, using SKlearn"
   ]
  },
  {
   "cell_type": "code",
   "execution_count": 58,
   "metadata": {},
   "outputs": [],
   "source": [
    "clf = RandomForestClassifier(\n",
    "    n_jobs=-1, \n",
    "    random_state=42,  \n",
    "    n_estimators=100, \n",
    "    oob_score=True, \n",
    "    verbose=1,\n",
    "    criterion='gini') #set max_depth to 3 or 8 for 83%, but faster runtime."
   ]
  },
  {
   "cell_type": "markdown",
   "metadata": {},
   "source": [
    "Fit the test model"
   ]
  },
  {
   "cell_type": "code",
   "execution_count": 59,
   "metadata": {},
   "outputs": [
    {
     "name": "stderr",
     "output_type": "stream",
     "text": [
      "[Parallel(n_jobs=-1)]: Using backend ThreadingBackend with 12 concurrent workers.\n",
      "[Parallel(n_jobs=-1)]: Done  26 tasks      | elapsed:   39.3s\n",
      "[Parallel(n_jobs=-1)]: Done 100 out of 100 | elapsed:  1.9min finished\n"
     ]
    },
    {
     "data": {
      "text/plain": [
       "RandomForestClassifier(bootstrap=True, ccp_alpha=0.0, class_weight=None,\n",
       "                       criterion='gini', max_depth=None, max_features='auto',\n",
       "                       max_leaf_nodes=None, max_samples=None,\n",
       "                       min_impurity_decrease=0.0, min_impurity_split=None,\n",
       "                       min_samples_leaf=1, min_samples_split=2,\n",
       "                       min_weight_fraction_leaf=0.0, n_estimators=100,\n",
       "                       n_jobs=-1, oob_score=True, random_state=42, verbose=1,\n",
       "                       warm_start=False)"
      ]
     },
     "execution_count": 59,
     "metadata": {},
     "output_type": "execute_result"
    }
   ],
   "source": [
    "clf.fit(X_train,y_train)"
   ]
  },
  {
   "cell_type": "markdown",
   "metadata": {},
   "source": [
    "## Save/Load Model"
   ]
  },
  {
   "cell_type": "markdown",
   "metadata": {},
   "source": [
    "Save model to disk:"
   ]
  },
  {
   "cell_type": "code",
   "execution_count": 28,
   "metadata": {},
   "outputs": [],
   "source": [
    "import pickle"
   ]
  },
  {
   "cell_type": "code",
   "execution_count": 29,
   "metadata": {},
   "outputs": [],
   "source": [
    "# Save to file in the current working directory\n",
    "pkl_filename = \"model.pkl\"\n",
    "with open(pkl_filename, 'wb') as file:\n",
    "    pickle.dump(clf, file)"
   ]
  },
  {
   "cell_type": "code",
   "execution_count": 7,
   "metadata": {},
   "outputs": [],
   "source": [
    "# Load from file\n",
    "pkl_filename = \"model.pkl\"\n",
    "with open(pkl_filename, 'rb') as file:\n",
    "    clf = pickle.load(file)"
   ]
  },
  {
   "cell_type": "markdown",
   "metadata": {},
   "source": [
    "## Model Evaluation"
   ]
  },
  {
   "cell_type": "code",
   "execution_count": 117,
   "metadata": {},
   "outputs": [],
   "source": [
    "def classifier_model_plot(X_test, y_test, clf, figsize, name):\n",
    "    \n",
    "    y_pred=clf.predict_proba(X_test)\n",
    "    y_pred = y_pred[:,1]\n",
    "    y_pred_labels=clf.predict(X_test)\n",
    "    \n",
    "    fpr, tpr, thresholds = roc_curve(y_test, y_pred, pos_label=1)\n",
    "    roc_auc = auc(fpr, tpr)\n",
    "\n",
    "    precision, recall, thresholds2 = precision_recall_curve(y_test, y_pred)\n",
    "\n",
    "    feats = {} # a dict to hold feature_name: feature_importance\n",
    "\n",
    "    for feature, importance in zip(X_test.columns, clf.feature_importances_):\n",
    "        feats[feature] = importance #add the name/value pair \n",
    "\n",
    "    importances = pd.DataFrame.from_dict(feats, orient='index').rename(columns={0: 'Gini-importance'})\n",
    "    importances['sd'] = np.std([tree.feature_importances_ for tree in clf.estimators_], axis=0)\n",
    "    \n",
    "    lw = 2\n",
    "\n",
    "    fig, ((ax1, ax2), (ax3, ax4)) = plt.subplots(2, 2, sharex=False, sharey=False, figsize=figsize)\n",
    "\n",
    "    ax1.plot(fpr, tpr, color='darkorange',lw=lw, label='ROC curve (area = %0.2f)' % roc_auc)\n",
    "    ax1.plot([0, 1], [0, 1], color='navy', lw=lw, linestyle='--')\n",
    "    ax1.axis(xmin=0,xmax=1, ymin=0, ymax=1)\n",
    "    ax1.set_xlabel('False Positive Rate')\n",
    "    ax1.set_ylabel('True Positive Rate')\n",
    "    ax1.set_title('Model ROC')\n",
    "    ax1.legend(loc=\"lower right\")\n",
    "\n",
    "    confusion_matrix = plot_confusion_matrix(clf, X_test, y_test, normalize='pred', ax=ax2)\n",
    "    ax2.set_title('Confusion Matrix')\n",
    "\n",
    "    ax3.plot(precision, recall, color='darkorange',\n",
    "             lw=lw, label='Precision Recall Curve')\n",
    "    ax3.axis(xmin=0,xmax=1, ymin=0, ymax=1)\n",
    "    ax3.set_xlabel('Precision')\n",
    "    ax3.set_ylabel('Recall')\n",
    "    ax3.set_title('Model PRC')\n",
    "    ax3.legend(loc=\"lower right\")\n",
    "\n",
    "    textstr = '\\n'.join((\n",
    "        r'$Accuracy=%.2f$' % (accuracy_score(y_test, y_pred_labels), ),\n",
    "        r'$Precision=%.2f$' % (precision_score(y_test, y_pred_labels), ),\n",
    "        r'$Recall=%.2f$' % (recall_score(y_test, y_pred_labels), )))\n",
    "\n",
    "    props = dict(boxstyle='round', facecolor='wheat', alpha=0.5)\n",
    "\n",
    "    ax3.text(0.10, 0.15, textstr, transform=ax3.transAxes, fontsize=14, bbox=props)\n",
    "\n",
    "\n",
    "\n",
    "    importances.sort_values(by='Gini-importance').plot.bar(yerr = 'sd', rot=90, ax=ax4)\n",
    "    ax4.set_title('Importance of Variables')\n",
    "    \n",
    "    fig.savefig(name)"
   ]
  },
  {
   "cell_type": "code",
   "execution_count": 118,
   "metadata": {},
   "outputs": [
    {
     "name": "stderr",
     "output_type": "stream",
     "text": [
      "[Parallel(n_jobs=12)]: Using backend ThreadingBackend with 12 concurrent workers.\n",
      "[Parallel(n_jobs=12)]: Done  26 tasks      | elapsed:    2.2s\n",
      "[Parallel(n_jobs=12)]: Done 100 out of 100 | elapsed:    6.8s finished\n",
      "[Parallel(n_jobs=12)]: Using backend ThreadingBackend with 12 concurrent workers.\n",
      "[Parallel(n_jobs=12)]: Done  26 tasks      | elapsed:    2.1s\n",
      "[Parallel(n_jobs=12)]: Done 100 out of 100 | elapsed:    6.5s finished\n",
      "[Parallel(n_jobs=12)]: Using backend ThreadingBackend with 12 concurrent workers.\n",
      "[Parallel(n_jobs=12)]: Done  26 tasks      | elapsed:    2.1s\n",
      "[Parallel(n_jobs=12)]: Done 100 out of 100 | elapsed:    6.3s finished\n"
     ]
    },
    {
     "data": {
      "image/png": "[encoded data removed]",
      "text/plain": [
       "<Figure size 1440x720 with 5 Axes>"
      ]
     },
     "metadata": {
      "needs_background": "light"
     },
     "output_type": "display_data"
    }
   ],
   "source": [
    "classifier_model_plot(X_test, y_test, clf, (20,10), \"modelplaatje.png\")"
   ]
  },
  {
   "cell_type": "code",
   "execution_count": null,
   "metadata": {},
   "outputs": [],
   "source": []
  },
  {
   "cell_type": "markdown",
   "metadata": {},
   "source": [
    "## Validation Set"
   ]
  },
  {
   "cell_type": "code",
   "execution_count": 50,
   "metadata": {},
   "outputs": [],
   "source": [
    "X_val = data.loc[data.validation_sample][x_columns]\n",
    "y_val = data.loc[data.validation_sample].maxmiddel"
   ]
  },
  {
   "cell_type": "code",
   "execution_count": 55,
   "metadata": {},
   "outputs": [
    {
     "data": {
      "text/plain": [
       "0.8098288317141739"
      ]
     },
     "execution_count": 55,
     "metadata": {},
     "output_type": "execute_result"
    }
   ],
   "source": [
    "accuracy_score(y_val, y_pred_label_validation)"
   ]
  },
  {
   "cell_type": "code",
   "execution_count": 56,
   "metadata": {},
   "outputs": [
    {
     "data": {
      "text/plain": [
       "0.6555051207773546"
      ]
     },
     "execution_count": 56,
     "metadata": {},
     "output_type": "execute_result"
    }
   ],
   "source": [
    "precision_score(y_val, y_pred_label_validation)"
   ]
  },
  {
   "cell_type": "code",
   "execution_count": 57,
   "metadata": {},
   "outputs": [
    {
     "data": {
      "text/plain": [
       "0.5096564811038006"
      ]
     },
     "execution_count": 57,
     "metadata": {},
     "output_type": "execute_result"
    }
   ],
   "source": [
    "recall_score(y_val, y_pred_label_validation)"
   ]
  },
  {
   "cell_type": "code",
   "execution_count": 116,
   "metadata": {},
   "outputs": [
    {
     "data": {
      "text/plain": [
       "'ab'"
      ]
     },
     "execution_count": 116,
     "metadata": {},
     "output_type": "execute_result"
    }
   ],
   "source": [
    "'a' + 'b'"
   ]
  },
  {
   "cell_type": "code",
   "execution_count": null,
   "metadata": {},
   "outputs": [],
   "source": []
  }
 ],
 "metadata": {
  "kernelspec": {
   "display_name": "Python 3",
   "language": "python",
   "name": "python3"
  },
  "language_info": {
   "codemirror_mode": {
    "name": "ipython",
    "version": 3
   },
   "file_extension": ".py",
   "mimetype": "text/x-python",
   "name": "python",
   "nbconvert_exporter": "python",
   "pygments_lexer": "ipython3",
   "version": "3.7.6"
  }
 },
 "nbformat": 4,
 "nbformat_minor": 4
}
